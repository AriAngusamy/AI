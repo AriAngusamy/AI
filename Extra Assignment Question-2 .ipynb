{
 "cells": [
  {
   "cell_type": "code",
   "execution_count": 2,
   "id": "25151472",
   "metadata": {},
   "outputs": [
    {
     "name": "stdout",
     "output_type": "stream",
     "text": [
      "value=18\n",
      "Correct\n"
     ]
    }
   ],
   "source": [
    "# print Correct if i = 18\n",
    "i=int(input(\"value=\"),10)\n",
    "if (i==18):\n",
    "    print(\"Correct\")\n",
    "else:\n",
    "    print(\"Wrong\")"
   ]
  },
  {
   "cell_type": "code",
   "execution_count": 3,
   "id": "a0e4bb6a",
   "metadata": {},
   "outputs": [
    {
     "name": "stdout",
     "output_type": "stream",
     "text": [
      "Enter the password: HOPE@123\n",
      "Your password is correct\n"
     ]
    }
   ],
   "source": [
    "#Check password is correct or not\n",
    "\n",
    "password = input(\"Enter the password: \")\n",
    "if(password == \"HOPE@123\" ):\n",
    "     print(\"Your password is correct\")\n",
    "else:\n",
    "     print(\"Your password is wrong\")\n"
   ]
  },
  {
   "cell_type": "code",
   "execution_count": 5,
   "id": "53bf4e60",
   "metadata": {},
   "outputs": [
    {
     "name": "stdout",
     "output_type": "stream",
     "text": [
      "age: 21\n",
      "Adult\n"
     ]
    }
   ],
   "source": [
    "#Category the people by ge - Children, Adult, Citizen and Senior Citizen\n",
    "age = int(input(\"age: \"))\n",
    "if (age <= 18):\n",
    "     print(\"Children\")\n",
    "elif (age <= 35):\n",
    "     print(\"Adult\")\n",
    "elif (age <= 60):\n",
    "     print(\"Citizen\")\n",
    "else:\n",
    "     print(\"Senior citizen\")"
   ]
  },
  {
   "cell_type": "code",
   "execution_count": 6,
   "id": "bd33c49a",
   "metadata": {},
   "outputs": [
    {
     "name": "stdout",
     "output_type": "stream",
     "text": [
      "Enter any number:1\n",
      "Number is positive\n"
     ]
    }
   ],
   "source": [
    "#Check number if spositive or negative or zero\n",
    "num = int(input(\"Enter any number:\"))\n",
    "if num>0:\n",
    "     print(\"Number is positive\")\n",
    "elif num<0:\n",
    "     print(\"Number is negative\")\n",
    "else:\n",
    "     print(\"Zero\")\n"
   ]
  },
  {
   "cell_type": "code",
   "execution_count": 7,
   "id": "65a8275a",
   "metadata": {},
   "outputs": [
    {
     "name": "stdout",
     "output_type": "stream",
     "text": [
      "Enter a number to check:22\n",
      "Number is not divisible by 5\n"
     ]
    }
   ],
   "source": [
    "#check given number is divisble by 5\n",
    "num1 = int(input(\"Enter a number to check:\"))\n",
    "if num1%5==0:\n",
    "     print(\"Number is divisible by 5\")\n",
    "else:\n",
    "     print(\"Number is not divisible by 5\")"
   ]
  },
  {
   "cell_type": "code",
   "execution_count": null,
   "id": "ca59ccc4",
   "metadata": {},
   "outputs": [],
   "source": []
  }
 ],
 "metadata": {
  "kernelspec": {
   "display_name": "Python 3 (ipykernel)",
   "language": "python",
   "name": "python3"
  },
  "language_info": {
   "codemirror_mode": {
    "name": "ipython",
    "version": 3
   },
   "file_extension": ".py",
   "mimetype": "text/x-python",
   "name": "python",
   "nbconvert_exporter": "python",
   "pygments_lexer": "ipython3",
   "version": "3.11.5"
  }
 },
 "nbformat": 4,
 "nbformat_minor": 5
}
