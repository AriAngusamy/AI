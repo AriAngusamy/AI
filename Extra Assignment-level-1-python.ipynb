{
 "cells": [
  {
   "cell_type": "code",
   "execution_count": 2,
   "id": "ad5f6153",
   "metadata": {},
   "outputs": [
    {
     "name": "stdout",
     "output_type": "stream",
     "text": [
      "HOPE AI\n"
     ]
    }
   ],
   "source": [
    "print ('HOPE AI')"
   ]
  },
  {
   "cell_type": "code",
   "execution_count": 3,
   "id": "8183b75e",
   "metadata": {},
   "outputs": [
    {
     "name": "stdout",
     "output_type": "stream",
     "text": [
      "Enter your Institute name ?:HOPE AI\n"
     ]
    }
   ],
   "source": [
    "name= input ('Enter your Institute name ?:')"
   ]
  },
  {
   "cell_type": "code",
   "execution_count": 4,
   "id": "3800f226",
   "metadata": {},
   "outputs": [
    {
     "name": "stdout",
     "output_type": "stream",
     "text": [
      "Enter your name: Ari\n",
      "Enter your age: 50\n",
      "Enter your school name: Raja\n",
      "Enter your drgree: MBA\n"
     ]
    }
   ],
   "source": [
    "#inputs\n",
    "name = input('Enter your name: ')\n",
    "age = input('Enter your age: ')\n",
    "school = input('Enter your school name: ')\n",
    "degree = input('Enter your drgree: ')"
   ]
  },
  {
   "cell_type": "code",
   "execution_count": 5,
   "id": "19d350b3",
   "metadata": {},
   "outputs": [
    {
     "name": "stdout",
     "output_type": "stream",
     "text": [
      "a=10\n",
      "b=20\n",
      "Addition =  30\n"
     ]
    }
   ],
   "source": [
    "#Addition operations\n",
    "num1=int(input(\"a=\"))\n",
    "num2=int(input(\"b=\"))\n",
    "print(\"Addition = \",num1+num2)"
   ]
  },
  {
   "cell_type": "code",
   "execution_count": 7,
   "id": "41aef2ea",
   "metadata": {},
   "outputs": [
    {
     "name": "stdout",
     "output_type": "stream",
     "text": [
      "a=20\n",
      "b=10\n",
      "Subtraction =  10\n"
     ]
    }
   ],
   "source": [
    "#Substraction operations\n",
    "num1=int(input(\"a=\"))\n",
    "num2=int(input(\"b=\"))\n",
    "print(\"Subtraction = \",num1-num2)"
   ]
  },
  {
   "cell_type": "code",
   "execution_count": 8,
   "id": "fb5ac0ca",
   "metadata": {},
   "outputs": [
    {
     "name": "stdout",
     "output_type": "stream",
     "text": [
      "a=10\n",
      "b=20\n",
      "Multiplication =  200\n"
     ]
    }
   ],
   "source": [
    "#Multipliation operations\n",
    "num1=int(input(\"a=\"))\n",
    "num2=int(input(\"b=\"))\n",
    "print(\"Multiplication = \",num1 *num2)"
   ]
  },
  {
   "cell_type": "code",
   "execution_count": 9,
   "id": "31a976b0",
   "metadata": {},
   "outputs": [
    {
     "name": "stdout",
     "output_type": "stream",
     "text": [
      "a=100\n",
      "b=10\n",
      "Division =  10.0\n"
     ]
    }
   ],
   "source": [
    "#Division operations\n",
    "num1=int(input(\"a=\"))\n",
    "num2=int(input(\"b=\"))\n",
    "print(\"Float Division = \",num1 /num2)"
   ]
  },
  {
   "cell_type": "code",
   "execution_count": 10,
   "id": "97ebafe2",
   "metadata": {},
   "outputs": [
    {
     "name": "stdout",
     "output_type": "stream",
     "text": [
      "a=100\n",
      "b=10\n",
      "Floor Division =  10\n"
     ]
    }
   ],
   "source": [
    "#Floor operations\n",
    "num1=int(input(\"a=\"))\n",
    "num2=int(input(\"b=\"))\n",
    "print(\"Floor Division = \",num1 // num2)"
   ]
  },
  {
   "cell_type": "code",
   "execution_count": 12,
   "id": "34a6119f",
   "metadata": {},
   "outputs": [
    {
     "name": "stdout",
     "output_type": "stream",
     "text": [
      "a=100\n",
      "b=3\n",
      "Modulo =  1\n"
     ]
    }
   ],
   "source": [
    "#Modulo -Reminder operations\n",
    "num1=int(input(\"a=\"))\n",
    "num2=int(input(\"b=\"))\n",
    "print(\"Modulo = \",num1 % num2)"
   ]
  },
  {
   "cell_type": "code",
   "execution_count": 14,
   "id": "1cb70b4a",
   "metadata": {},
   "outputs": [
    {
     "name": "stdout",
     "output_type": "stream",
     "text": [
      "a=4\n",
      "b=4\n",
      "Power =  256\n"
     ]
    }
   ],
   "source": [
    "#Power -operations\n",
    "num1=int(input(\"a=\"))\n",
    "num2=int(input(\"b=\"))\n",
    "print(\"Power = \",num1 ** num2)"
   ]
  },
  {
   "cell_type": "code",
   "execution_count": null,
   "id": "6fa70275",
   "metadata": {},
   "outputs": [],
   "source": []
  }
 ],
 "metadata": {
  "kernelspec": {
   "display_name": "Python 3 (ipykernel)",
   "language": "python",
   "name": "python3"
  },
  "language_info": {
   "codemirror_mode": {
    "name": "ipython",
    "version": 3
   },
   "file_extension": ".py",
   "mimetype": "text/x-python",
   "name": "python",
   "nbconvert_exporter": "python",
   "pygments_lexer": "ipython3",
   "version": "3.11.5"
  }
 },
 "nbformat": 4,
 "nbformat_minor": 5
}
